{
 "cells": [
  {
   "cell_type": "markdown",
   "metadata": {},
   "source": [
    "# Dairy Data Trends in the United States and beyond"
   ]
  },
  {
   "cell_type": "code",
   "execution_count": 13,
   "metadata": {},
   "outputs": [],
   "source": [
    "# Dependencies\n",
    "import pandas as pd\n",
    "import numpy as np\n",
    "import matplotlib.pyplot as plt\n",
    "import requests\n",
    "import json\n"
   ]
  },
  {
   "cell_type": "code",
   "execution_count": 14,
   "metadata": {},
   "outputs": [
    {
     "data": {
      "text/html": [
       "<div>\n",
       "<style scoped>\n",
       "    .dataframe tbody tr th:only-of-type {\n",
       "        vertical-align: middle;\n",
       "    }\n",
       "\n",
       "    .dataframe tbody tr th {\n",
       "        vertical-align: top;\n",
       "    }\n",
       "\n",
       "    .dataframe thead th {\n",
       "        text-align: right;\n",
       "    }\n",
       "</style>\n",
       "<table border=\"1\" class=\"dataframe\">\n",
       "  <thead>\n",
       "    <tr style=\"text-align: right;\">\n",
       "      <th></th>\n",
       "      <th>Milk Production</th>\n",
       "      <th>2016</th>\n",
       "      <th>2017</th>\n",
       "      <th>2018</th>\n",
       "    </tr>\n",
       "  </thead>\n",
       "  <tbody>\n",
       "    <tr>\n",
       "      <th>0</th>\n",
       "      <td>Production (23 States) (Mil. lb.)</td>\n",
       "      <td>199,434</td>\n",
       "      <td>202,455</td>\n",
       "      <td>204,825</td>\n",
       "    </tr>\n",
       "    <tr>\n",
       "      <th>1</th>\n",
       "      <td>Milk cows (23 States) (Thou.)</td>\n",
       "      <td>8,653</td>\n",
       "      <td>8,725</td>\n",
       "      <td>8,734</td>\n",
       "    </tr>\n",
       "    <tr>\n",
       "      <th>2</th>\n",
       "      <td>Milk per cow (23 States) (Lb.)</td>\n",
       "      <td>23,049</td>\n",
       "      <td>23,204</td>\n",
       "      <td>23,451</td>\n",
       "    </tr>\n",
       "    <tr>\n",
       "      <th>3</th>\n",
       "      <td>Production (U.S. estimate) (Mil. Lb.)</td>\n",
       "      <td>212,405</td>\n",
       "      <td>215,466</td>\n",
       "      <td>217,476</td>\n",
       "    </tr>\n",
       "  </tbody>\n",
       "</table>\n",
       "</div>"
      ],
      "text/plain": [
       "                         Milk Production     2016     2017     2018\n",
       "0      Production (23 States) (Mil. lb.)  199,434  202,455  204,825\n",
       "1          Milk cows (23 States) (Thou.)    8,653    8,725    8,734\n",
       "2         Milk per cow (23 States) (Lb.)   23,049   23,204   23,451\n",
       "3  Production (U.S. estimate) (Mil. Lb.)  212,405  215,466  217,476"
      ]
     },
     "execution_count": 14,
     "metadata": {},
     "output_type": "execute_result"
    }
   ],
   "source": [
    "# Import annual data as DataFrame\n",
    "annual_milk_production = pd.read_csv(\"Resources/us_annual_milk_production_16-18.csv\")\n",
    "annual_milk_production.head()"
   ]
  },
  {
   "cell_type": "code",
   "execution_count": 31,
   "metadata": {},
   "outputs": [
    {
     "data": {
      "text/html": [
       "<div>\n",
       "<style scoped>\n",
       "    .dataframe tbody tr th:only-of-type {\n",
       "        vertical-align: middle;\n",
       "    }\n",
       "\n",
       "    .dataframe tbody tr th {\n",
       "        vertical-align: top;\n",
       "    }\n",
       "\n",
       "    .dataframe thead th {\n",
       "        text-align: right;\n",
       "    }\n",
       "</style>\n",
       "<table border=\"1\" class=\"dataframe\">\n",
       "  <thead>\n",
       "    <tr style=\"text-align: right;\">\n",
       "      <th></th>\n",
       "      <th>2016</th>\n",
       "      <th>2017</th>\n",
       "      <th>2018</th>\n",
       "    </tr>\n",
       "    <tr>\n",
       "      <th>Milk Production</th>\n",
       "      <th></th>\n",
       "      <th></th>\n",
       "      <th></th>\n",
       "    </tr>\n",
       "  </thead>\n",
       "  <tbody>\n",
       "    <tr>\n",
       "      <th>Production (23 States) (Mil. lb.)</th>\n",
       "      <td>199,434</td>\n",
       "      <td>202,455</td>\n",
       "      <td>204,825</td>\n",
       "    </tr>\n",
       "    <tr>\n",
       "      <th>Milk cows (23 States) (Thou.)</th>\n",
       "      <td>8,653</td>\n",
       "      <td>8,725</td>\n",
       "      <td>8,734</td>\n",
       "    </tr>\n",
       "    <tr>\n",
       "      <th>Milk per cow (23 States) (Lb.)</th>\n",
       "      <td>23,049</td>\n",
       "      <td>23,204</td>\n",
       "      <td>23,451</td>\n",
       "    </tr>\n",
       "    <tr>\n",
       "      <th>Production (U.S. estimate) (Mil. Lb.)</th>\n",
       "      <td>212,405</td>\n",
       "      <td>215,466</td>\n",
       "      <td>217,476</td>\n",
       "    </tr>\n",
       "  </tbody>\n",
       "</table>\n",
       "</div>"
      ],
      "text/plain": [
       "                                          2016     2017     2018\n",
       "Milk Production                                                 \n",
       "Production (23 States) (Mil. lb.)      199,434  202,455  204,825\n",
       "Milk cows (23 States) (Thou.)            8,653    8,725    8,734\n",
       "Milk per cow (23 States) (Lb.)          23,049   23,204   23,451\n",
       "Production (U.S. estimate) (Mil. Lb.)  212,405  215,466  217,476"
      ]
     },
     "execution_count": 31,
     "metadata": {},
     "output_type": "execute_result"
    }
   ],
   "source": [
    "reset_milk_production = annual_milk_production.set_index('Milk Production')\n",
    "reset_milk_production"
   ]
  },
  {
   "cell_type": "code",
   "execution_count": 34,
   "metadata": {},
   "outputs": [
    {
     "data": {
      "text/html": [
       "<div>\n",
       "<style scoped>\n",
       "    .dataframe tbody tr th:only-of-type {\n",
       "        vertical-align: middle;\n",
       "    }\n",
       "\n",
       "    .dataframe tbody tr th {\n",
       "        vertical-align: top;\n",
       "    }\n",
       "\n",
       "    .dataframe thead th {\n",
       "        text-align: right;\n",
       "    }\n",
       "</style>\n",
       "<table border=\"1\" class=\"dataframe\">\n",
       "  <thead>\n",
       "    <tr style=\"text-align: right;\">\n",
       "      <th>Milk Production</th>\n",
       "      <th>Production (23 States) (Mil. lb.)</th>\n",
       "      <th>Milk cows (23 States) (Thou.)</th>\n",
       "      <th>Milk per cow (23 States) (Lb.)</th>\n",
       "      <th>Production (U.S. estimate) (Mil. Lb.)</th>\n",
       "    </tr>\n",
       "  </thead>\n",
       "  <tbody>\n",
       "    <tr>\n",
       "      <th>2016</th>\n",
       "      <td>199,434</td>\n",
       "      <td>8,653</td>\n",
       "      <td>23,049</td>\n",
       "      <td>212,405</td>\n",
       "    </tr>\n",
       "    <tr>\n",
       "      <th>2017</th>\n",
       "      <td>202,455</td>\n",
       "      <td>8,725</td>\n",
       "      <td>23,204</td>\n",
       "      <td>215,466</td>\n",
       "    </tr>\n",
       "    <tr>\n",
       "      <th>2018</th>\n",
       "      <td>204,825</td>\n",
       "      <td>8,734</td>\n",
       "      <td>23,451</td>\n",
       "      <td>217,476</td>\n",
       "    </tr>\n",
       "  </tbody>\n",
       "</table>\n",
       "</div>"
      ],
      "text/plain": [
       "Milk Production Production (23 States) (Mil. lb.)  \\\n",
       "2016                                      199,434   \n",
       "2017                                      202,455   \n",
       "2018                                      204,825   \n",
       "\n",
       "Milk Production Milk cows (23 States) (Thou.) Milk per cow (23 States) (Lb.)  \\\n",
       "2016                                    8,653                         23,049   \n",
       "2017                                    8,725                         23,204   \n",
       "2018                                    8,734                         23,451   \n",
       "\n",
       "Milk Production Production (U.S. estimate) (Mil. Lb.)  \n",
       "2016                                          212,405  \n",
       "2017                                          215,466  \n",
       "2018                                          217,476  "
      ]
     },
     "execution_count": 34,
     "metadata": {},
     "output_type": "execute_result"
    }
   ],
   "source": [
    "transpose_milk_production = reset_milk_production.transpose()\n",
    "transpose_milk_production"
   ]
  },
  {
   "cell_type": "code",
   "execution_count": 15,
   "metadata": {},
   "outputs": [
    {
     "data": {
      "text/html": [
       "<div>\n",
       "<style scoped>\n",
       "    .dataframe tbody tr th:only-of-type {\n",
       "        vertical-align: middle;\n",
       "    }\n",
       "\n",
       "    .dataframe tbody tr th {\n",
       "        vertical-align: top;\n",
       "    }\n",
       "\n",
       "    .dataframe thead th {\n",
       "        text-align: right;\n",
       "    }\n",
       "</style>\n",
       "<table border=\"1\" class=\"dataframe\">\n",
       "  <thead>\n",
       "    <tr style=\"text-align: right;\">\n",
       "      <th></th>\n",
       "      <th>Milk Price</th>\n",
       "      <th>2016</th>\n",
       "      <th>2017</th>\n",
       "      <th>2018</th>\n",
       "    </tr>\n",
       "  </thead>\n",
       "  <tbody>\n",
       "    <tr>\n",
       "      <th>0</th>\n",
       "      <td>All milk (Dol./cwt)</td>\n",
       "      <td>16.30</td>\n",
       "      <td>17.60</td>\n",
       "      <td>16.20</td>\n",
       "    </tr>\n",
       "    <tr>\n",
       "      <th>1</th>\n",
       "      <td>Class III (cheese milk) 3.5% fat (Dol./cwt)</td>\n",
       "      <td>14.87</td>\n",
       "      <td>16.17</td>\n",
       "      <td>14.61</td>\n",
       "    </tr>\n",
       "    <tr>\n",
       "      <th>2</th>\n",
       "      <td>Class IV (butter-powder milk) 3.5% fat (Dol./cwt)</td>\n",
       "      <td>13.77</td>\n",
       "      <td>15.16</td>\n",
       "      <td>14.23</td>\n",
       "    </tr>\n",
       "  </tbody>\n",
       "</table>\n",
       "</div>"
      ],
      "text/plain": [
       "                                          Milk Price   2016   2017   2018\n",
       "0                                All milk (Dol./cwt)  16.30  17.60  16.20\n",
       "1        Class III (cheese milk) 3.5% fat (Dol./cwt)  14.87  16.17  14.61\n",
       "2  Class IV (butter-powder milk) 3.5% fat (Dol./cwt)  13.77  15.16  14.23"
      ]
     },
     "execution_count": 15,
     "metadata": {},
     "output_type": "execute_result"
    }
   ],
   "source": [
    "annual_milk_price = pd.read_csv(\"Resources/us_annual_milk_price_16-18.csv\")\n",
    "annual_milk_price.head()"
   ]
  },
  {
   "cell_type": "code",
   "execution_count": 29,
   "metadata": {},
   "outputs": [
    {
     "data": {
      "text/html": [
       "<div>\n",
       "<style scoped>\n",
       "    .dataframe tbody tr th:only-of-type {\n",
       "        vertical-align: middle;\n",
       "    }\n",
       "\n",
       "    .dataframe tbody tr th {\n",
       "        vertical-align: top;\n",
       "    }\n",
       "\n",
       "    .dataframe thead th {\n",
       "        text-align: right;\n",
       "    }\n",
       "</style>\n",
       "<table border=\"1\" class=\"dataframe\">\n",
       "  <thead>\n",
       "    <tr style=\"text-align: right;\">\n",
       "      <th></th>\n",
       "      <th>2016</th>\n",
       "      <th>2017</th>\n",
       "      <th>2018</th>\n",
       "    </tr>\n",
       "    <tr>\n",
       "      <th>Milk Price</th>\n",
       "      <th></th>\n",
       "      <th></th>\n",
       "      <th></th>\n",
       "    </tr>\n",
       "  </thead>\n",
       "  <tbody>\n",
       "    <tr>\n",
       "      <th>All milk (Dol./cwt)</th>\n",
       "      <td>16.30</td>\n",
       "      <td>17.60</td>\n",
       "      <td>16.20</td>\n",
       "    </tr>\n",
       "    <tr>\n",
       "      <th>Class III (cheese milk) 3.5% fat (Dol./cwt)</th>\n",
       "      <td>14.87</td>\n",
       "      <td>16.17</td>\n",
       "      <td>14.61</td>\n",
       "    </tr>\n",
       "    <tr>\n",
       "      <th>Class IV (butter-powder milk) 3.5% fat (Dol./cwt)</th>\n",
       "      <td>13.77</td>\n",
       "      <td>15.16</td>\n",
       "      <td>14.23</td>\n",
       "    </tr>\n",
       "  </tbody>\n",
       "</table>\n",
       "</div>"
      ],
      "text/plain": [
       "                                                    2016   2017   2018\n",
       "Milk Price                                                            \n",
       "All milk (Dol./cwt)                                16.30  17.60  16.20\n",
       "Class III (cheese milk) 3.5% fat (Dol./cwt)        14.87  16.17  14.61\n",
       "Class IV (butter-powder milk) 3.5% fat (Dol./cwt)  13.77  15.16  14.23"
      ]
     },
     "execution_count": 29,
     "metadata": {},
     "output_type": "execute_result"
    }
   ],
   "source": [
    "reset_milk_price = annual_milk_price.set_index('Milk Price')\n",
    "reset_milk_price"
   ]
  },
  {
   "cell_type": "code",
   "execution_count": 40,
   "metadata": {},
   "outputs": [
    {
     "data": {
      "text/plain": [
       "Index(['All milk (Dol./cwt)', 'Class III (cheese milk) 3.5% fat (Dol./cwt)',\n",
       "       'Class IV (butter-powder milk) 3.5% fat (Dol./cwt)'],\n",
       "      dtype='object', name='Milk Price')"
      ]
     },
     "execution_count": 40,
     "metadata": {},
     "output_type": "execute_result"
    }
   ],
   "source": [
    "transpose_milk_price = reset_milk_price.transpose()\n",
    "transpose_milk_price\n"
   ]
  },
  {
   "cell_type": "code",
   "execution_count": 42,
   "metadata": {},
   "outputs": [
    {
     "data": {
      "text/html": [
       "<div>\n",
       "<style scoped>\n",
       "    .dataframe tbody tr th:only-of-type {\n",
       "        vertical-align: middle;\n",
       "    }\n",
       "\n",
       "    .dataframe tbody tr th {\n",
       "        vertical-align: top;\n",
       "    }\n",
       "\n",
       "    .dataframe thead th {\n",
       "        text-align: right;\n",
       "    }\n",
       "</style>\n",
       "<table border=\"1\" class=\"dataframe\">\n",
       "  <thead>\n",
       "    <tr style=\"text-align: right;\">\n",
       "      <th></th>\n",
       "      <th>key_0</th>\n",
       "      <th>Production (23 States) (Mil. lb.)</th>\n",
       "      <th>Milk cows (23 States) (Thou.)</th>\n",
       "      <th>Milk per cow (23 States) (Lb.)</th>\n",
       "      <th>Production (U.S. estimate) (Mil. Lb.)</th>\n",
       "      <th>All milk (Dol./cwt)</th>\n",
       "      <th>Class III (cheese milk) 3.5% fat (Dol./cwt)</th>\n",
       "      <th>Class IV (butter-powder milk) 3.5% fat (Dol./cwt)</th>\n",
       "    </tr>\n",
       "  </thead>\n",
       "  <tbody>\n",
       "    <tr>\n",
       "      <th>0</th>\n",
       "      <td>2016</td>\n",
       "      <td>199,434</td>\n",
       "      <td>8,653</td>\n",
       "      <td>23,049</td>\n",
       "      <td>212,405</td>\n",
       "      <td>16.3</td>\n",
       "      <td>14.87</td>\n",
       "      <td>13.77</td>\n",
       "    </tr>\n",
       "    <tr>\n",
       "      <th>1</th>\n",
       "      <td>2017</td>\n",
       "      <td>202,455</td>\n",
       "      <td>8,725</td>\n",
       "      <td>23,204</td>\n",
       "      <td>215,466</td>\n",
       "      <td>17.6</td>\n",
       "      <td>16.17</td>\n",
       "      <td>15.16</td>\n",
       "    </tr>\n",
       "    <tr>\n",
       "      <th>2</th>\n",
       "      <td>2018</td>\n",
       "      <td>204,825</td>\n",
       "      <td>8,734</td>\n",
       "      <td>23,451</td>\n",
       "      <td>217,476</td>\n",
       "      <td>16.2</td>\n",
       "      <td>14.61</td>\n",
       "      <td>14.23</td>\n",
       "    </tr>\n",
       "  </tbody>\n",
       "</table>\n",
       "</div>"
      ],
      "text/plain": [
       "  key_0 Production (23 States) (Mil. lb.) Milk cows (23 States) (Thou.)  \\\n",
       "0  2016                           199,434                         8,653   \n",
       "1  2017                           202,455                         8,725   \n",
       "2  2018                           204,825                         8,734   \n",
       "\n",
       "  Milk per cow (23 States) (Lb.) Production (U.S. estimate) (Mil. Lb.)  \\\n",
       "0                         23,049                               212,405   \n",
       "1                         23,204                               215,466   \n",
       "2                         23,451                               217,476   \n",
       "\n",
       "   All milk (Dol./cwt)  Class III (cheese milk) 3.5% fat (Dol./cwt)  \\\n",
       "0                 16.3                                        14.87   \n",
       "1                 17.6                                        16.17   \n",
       "2                 16.2                                        14.61   \n",
       "\n",
       "   Class IV (butter-powder milk) 3.5% fat (Dol./cwt)  \n",
       "0                                              13.77  \n",
       "1                                              15.16  \n",
       "2                                              14.23  "
      ]
     },
     "execution_count": 42,
     "metadata": {},
     "output_type": "execute_result"
    }
   ],
   "source": [
    "merge_production_price = transpose_milk_production.merge(transpose_milk_price, on=transpose_milk_production.index)\n",
    "merge_production_price"
   ]
  },
  {
   "cell_type": "code",
   "execution_count": 47,
   "metadata": {},
   "outputs": [
    {
     "data": {
      "text/html": [
       "<div>\n",
       "<style scoped>\n",
       "    .dataframe tbody tr th:only-of-type {\n",
       "        vertical-align: middle;\n",
       "    }\n",
       "\n",
       "    .dataframe tbody tr th {\n",
       "        vertical-align: top;\n",
       "    }\n",
       "\n",
       "    .dataframe thead th {\n",
       "        text-align: right;\n",
       "    }\n",
       "</style>\n",
       "<table border=\"1\" class=\"dataframe\">\n",
       "  <thead>\n",
       "    <tr style=\"text-align: right;\">\n",
       "      <th></th>\n",
       "      <th>Production (23 States) (Mil. lb.)</th>\n",
       "      <th>Milk cows (23 States) (Thou.)</th>\n",
       "      <th>Milk per cow (23 States) (Lb.)</th>\n",
       "      <th>Production (U.S. estimate) (Mil. Lb.)</th>\n",
       "      <th>All milk (Dol./cwt)</th>\n",
       "      <th>Class III (cheese milk) 3.5% fat (Dol./cwt)</th>\n",
       "      <th>Class IV (butter-powder milk) 3.5% fat (Dol./cwt)</th>\n",
       "    </tr>\n",
       "    <tr>\n",
       "      <th>key_0</th>\n",
       "      <th></th>\n",
       "      <th></th>\n",
       "      <th></th>\n",
       "      <th></th>\n",
       "      <th></th>\n",
       "      <th></th>\n",
       "      <th></th>\n",
       "    </tr>\n",
       "  </thead>\n",
       "  <tbody>\n",
       "    <tr>\n",
       "      <th>2016</th>\n",
       "      <td>199,434</td>\n",
       "      <td>8,653</td>\n",
       "      <td>23,049</td>\n",
       "      <td>212,405</td>\n",
       "      <td>16.3</td>\n",
       "      <td>14.87</td>\n",
       "      <td>13.77</td>\n",
       "    </tr>\n",
       "    <tr>\n",
       "      <th>2017</th>\n",
       "      <td>202,455</td>\n",
       "      <td>8,725</td>\n",
       "      <td>23,204</td>\n",
       "      <td>215,466</td>\n",
       "      <td>17.6</td>\n",
       "      <td>16.17</td>\n",
       "      <td>15.16</td>\n",
       "    </tr>\n",
       "    <tr>\n",
       "      <th>2018</th>\n",
       "      <td>204,825</td>\n",
       "      <td>8,734</td>\n",
       "      <td>23,451</td>\n",
       "      <td>217,476</td>\n",
       "      <td>16.2</td>\n",
       "      <td>14.61</td>\n",
       "      <td>14.23</td>\n",
       "    </tr>\n",
       "  </tbody>\n",
       "</table>\n",
       "</div>"
      ],
      "text/plain": [
       "      Production (23 States) (Mil. lb.) Milk cows (23 States) (Thou.)  \\\n",
       "key_0                                                                   \n",
       "2016                            199,434                         8,653   \n",
       "2017                            202,455                         8,725   \n",
       "2018                            204,825                         8,734   \n",
       "\n",
       "      Milk per cow (23 States) (Lb.) Production (U.S. estimate) (Mil. Lb.)  \\\n",
       "key_0                                                                        \n",
       "2016                          23,049                               212,405   \n",
       "2017                          23,204                               215,466   \n",
       "2018                          23,451                               217,476   \n",
       "\n",
       "       All milk (Dol./cwt)  Class III (cheese milk) 3.5% fat (Dol./cwt)  \\\n",
       "key_0                                                                     \n",
       "2016                  16.3                                        14.87   \n",
       "2017                  17.6                                        16.17   \n",
       "2018                  16.2                                        14.61   \n",
       "\n",
       "       Class IV (butter-powder milk) 3.5% fat (Dol./cwt)  \n",
       "key_0                                                     \n",
       "2016                                               13.77  \n",
       "2017                                               15.16  \n",
       "2018                                               14.23  "
      ]
     },
     "execution_count": 47,
     "metadata": {},
     "output_type": "execute_result"
    }
   ],
   "source": [
    "reset_merge = merge_production_price.set_index('key_0')\n",
    "reset_merge"
   ]
  },
  {
   "cell_type": "code",
   "execution_count": 52,
   "metadata": {},
   "outputs": [
    {
     "data": {
      "text/html": [
       "<div>\n",
       "<style scoped>\n",
       "    .dataframe tbody tr th:only-of-type {\n",
       "        vertical-align: middle;\n",
       "    }\n",
       "\n",
       "    .dataframe tbody tr th {\n",
       "        vertical-align: top;\n",
       "    }\n",
       "\n",
       "    .dataframe thead th {\n",
       "        text-align: right;\n",
       "    }\n",
       "</style>\n",
       "<table border=\"1\" class=\"dataframe\">\n",
       "  <thead>\n",
       "    <tr style=\"text-align: right;\">\n",
       "      <th></th>\n",
       "      <th>Production (23 States) (Mil. lb.)</th>\n",
       "      <th>Milk cows (23 States) (Thou.)</th>\n",
       "      <th>Milk per cow (23 States) (Lb.)</th>\n",
       "      <th>Production (U.S. estimate) (Mil. Lb.)</th>\n",
       "      <th>All milk (Dol./cwt)</th>\n",
       "      <th>Class III (cheese milk) 3.5% fat (Dol./cwt)</th>\n",
       "      <th>Class IV (butter-powder milk) 3.5% fat (Dol./cwt)</th>\n",
       "    </tr>\n",
       "    <tr>\n",
       "      <th>Year</th>\n",
       "      <th></th>\n",
       "      <th></th>\n",
       "      <th></th>\n",
       "      <th></th>\n",
       "      <th></th>\n",
       "      <th></th>\n",
       "      <th></th>\n",
       "    </tr>\n",
       "  </thead>\n",
       "  <tbody>\n",
       "    <tr>\n",
       "      <th>2016</th>\n",
       "      <td>199,434</td>\n",
       "      <td>8,653</td>\n",
       "      <td>23,049</td>\n",
       "      <td>212,405</td>\n",
       "      <td>16.3</td>\n",
       "      <td>14.87</td>\n",
       "      <td>13.77</td>\n",
       "    </tr>\n",
       "    <tr>\n",
       "      <th>2017</th>\n",
       "      <td>202,455</td>\n",
       "      <td>8,725</td>\n",
       "      <td>23,204</td>\n",
       "      <td>215,466</td>\n",
       "      <td>17.6</td>\n",
       "      <td>16.17</td>\n",
       "      <td>15.16</td>\n",
       "    </tr>\n",
       "    <tr>\n",
       "      <th>2018</th>\n",
       "      <td>204,825</td>\n",
       "      <td>8,734</td>\n",
       "      <td>23,451</td>\n",
       "      <td>217,476</td>\n",
       "      <td>16.2</td>\n",
       "      <td>14.61</td>\n",
       "      <td>14.23</td>\n",
       "    </tr>\n",
       "  </tbody>\n",
       "</table>\n",
       "</div>"
      ],
      "text/plain": [
       "     Production (23 States) (Mil. lb.) Milk cows (23 States) (Thou.)  \\\n",
       "Year                                                                   \n",
       "2016                           199,434                         8,653   \n",
       "2017                           202,455                         8,725   \n",
       "2018                           204,825                         8,734   \n",
       "\n",
       "     Milk per cow (23 States) (Lb.) Production (U.S. estimate) (Mil. Lb.)  \\\n",
       "Year                                                                        \n",
       "2016                         23,049                               212,405   \n",
       "2017                         23,204                               215,466   \n",
       "2018                         23,451                               217,476   \n",
       "\n",
       "      All milk (Dol./cwt)  Class III (cheese milk) 3.5% fat (Dol./cwt)  \\\n",
       "Year                                                                     \n",
       "2016                 16.3                                        14.87   \n",
       "2017                 17.6                                        16.17   \n",
       "2018                 16.2                                        14.61   \n",
       "\n",
       "      Class IV (butter-powder milk) 3.5% fat (Dol./cwt)  \n",
       "Year                                                     \n",
       "2016                                              13.77  \n",
       "2017                                              15.16  \n",
       "2018                                              14.23  "
      ]
     },
     "execution_count": 52,
     "metadata": {},
     "output_type": "execute_result"
    }
   ],
   "source": [
    "renamed_milk_price_production = reset_merge.rename_axis('Year')\n",
    "renamed_milk_price_production"
   ]
  },
  {
   "cell_type": "code",
   "execution_count": 59,
   "metadata": {},
   "outputs": [
    {
     "data": {
      "image/png": "[encoded data removed]",
      "text/plain": [
       "<Figure size 432x288 with 1 Axes>"
      ]
     },
     "metadata": {
      "needs_background": "light"
     },
     "output_type": "display_data"
    }
   ],
   "source": [
    "# Plot the line\n",
    "x_axis = renamed_milk_price_production.index\n",
    "y_axis = renamed_milk_price_production[\"Production (U.S. estimate) (Mil. Lb.)\"]\n",
    "\n",
    "plt.plot(x_axis, y_axis)\n",
    "plt.show()"
   ]
  },
  {
   "cell_type": "code",
   "execution_count": 62,
   "metadata": {},
   "outputs": [
    {
     "data": {
      "image/png": "[encoded data removed]",
      "text/plain": [
       "<Figure size 432x288 with 1 Axes>"
      ]
     },
     "metadata": {
      "needs_background": "light"
     },
     "output_type": "display_data"
    }
   ],
   "source": [
    "#plt.figure(figsize=(20,3))\n",
    "x_axis = renamed_milk_price_production.index\n",
    "y_axis = renamed_milk_price_production[\"Production (U.S. estimate) (Mil. Lb.)\"]\n",
    "\n",
    "plt.bar(x_axis, y_axis, color='r', alpha=0.5)\n",
    "#plt.xticks(tick_locations, rain_df[\"State\"], rotation=\"vertical\")\n",
    "plt.show()"
   ]
  },
  {
   "cell_type": "code",
   "execution_count": null,
   "metadata": {},
   "outputs": [],
   "source": []
  }
 ],
 "metadata": {
  "kernelspec": {
   "display_name": "Python 3",
   "language": "python",
   "name": "python3"
  },
  "language_info": {
   "codemirror_mode": {
    "name": "ipython",
    "version": 3
   },
   "file_extension": ".py",
   "mimetype": "text/x-python",
   "name": "python",
   "nbconvert_exporter": "python",
   "pygments_lexer": "ipython3",
   "version": "3.7.0"
  }
 },
 "nbformat": 4,
 "nbformat_minor": 2
}
